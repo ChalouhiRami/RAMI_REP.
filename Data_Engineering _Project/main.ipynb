{
 "cells": [
  {
   "cell_type": "code",
   "execution_count": 1,
   "metadata": {},
   "outputs": [],
   "source": [
    "from hook import execute\n",
    "import database_handler  \n",
    "import pandas as pd\n",
    "import lookups\n",
    "import data_handler\n",
    "import prehook\n",
    "import hook \n",
    " \n"
   ]
  },
  {
   "cell_type": "code",
   "execution_count": 2,
   "metadata": {},
   "outputs": [
    {
     "name": "stdout",
     "output_type": "stream",
     "text": [
      "V3_hook_dim_fact.sql\n"
     ]
    },
    {
     "name": "stderr",
     "output_type": "stream",
     "text": [
      "ERROR:root:An error occurred: column \"name\" does not exist\n",
      "LINE 2:     WHERE name = subregion_name\n",
      "                  ^\n",
      "QUERY:  SELECT id                       FROM dwreporting.fct_subregion\n",
      "    WHERE name = subregion_name\n",
      "CONTEXT:  PL/pgSQL function get_fct_subregion_id(character varying) line 5 at SQL statement\n",
      "\n"
     ]
    },
    {
     "name": "stdout",
     "output_type": "stream",
     "text": [
      "2023-12-14 05:30:05.430880 - Failed to connect to database (database_handler.py) ##### column \"name\" does not exist\n",
      "LINE 2:     WHERE name = subregion_name\n",
      "                  ^\n",
      "QUERY:  SELECT id                       FROM dwreporting.fct_subregion\n",
      "    WHERE name = subregion_name\n",
      "CONTEXT:  PL/pgSQL function get_fct_subregion_id(character varying) line 5 at SQL statement\n",
      "\n"
     ]
    }
   ],
   "source": [
    "prehook.create_staging_tables()\n",
    "\n",
    "hook.execute()"
   ]
  },
  {
   "cell_type": "code",
   "execution_count": null,
   "metadata": {},
   "outputs": [],
   "source": []
  }
 ],
 "metadata": {
  "kernelspec": {
   "display_name": "usj_data_project_2023",
   "language": "python",
   "name": "python3"
  },
  "language_info": {
   "codemirror_mode": {
    "name": "ipython",
    "version": 3
   },
   "file_extension": ".py",
   "mimetype": "text/x-python",
   "name": "python",
   "nbconvert_exporter": "python",
   "pygments_lexer": "ipython3",
   "version": "3.12.0"
  }
 },
 "nbformat": 4,
 "nbformat_minor": 2
}
